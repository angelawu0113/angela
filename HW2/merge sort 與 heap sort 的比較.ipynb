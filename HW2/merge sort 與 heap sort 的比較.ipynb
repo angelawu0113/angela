{
 "cells": [
  {
   "cell_type": "markdown",
   "metadata": {},
   "source": [
    "# merge sort 與 heap sort 的比較：\n"
   ]
  },
  {
   "cell_type": "markdown",
   "metadata": {},
   "source": [
    "## merge_sort：\n",
    "merge sort 是把輸入的資料不斷分成2堆，最後形成每堆都只有一個數，再倆倆合併排序，最後輸出完整排序的資料。\n",
    "因為是一直把資料分成2堆進行排序，所以不會受到數字大小的位置影響，所以相對來說比較穩定(排序不會受到資料影響)"
   ]
  },
  {
   "cell_type": "code",
   "execution_count": 1,
   "metadata": {},
   "outputs": [],
   "source": [
    "class Solution(object): #首先定義一個分割陣列的涵式\n",
    "    def merge_sort(self,nums):\n",
    "        \"\"\"\n",
    "        :type nums: List[int] ex:[3,2,-4,6,4,2,19],[5,1,1,2,0,0]\n",
    "        :rtype: List[int] ex:[-4,2,2,3,4,6,19],[0,0,1,1,2,5]\n",
    "        \"\"\"\n",
    "        left=[]\n",
    "        right=[]\n",
    "        middle=len(nums)//2 #定義中間數的index\n",
    "        if len(nums)<=1: #如果陣列長度是0、1就可以不用分割，直接回傳此陣列\n",
    "            return nums\n",
    "        else:   #陣列長度大於1，進行分割\n",
    "            for n in nums[0:middle]:  #將middle以前的數新增到left\n",
    "                left.append(n)\n",
    "            for n in nums[middle:]:  #從middle以後的數新增到right\n",
    "                right.append(n) \n",
    "            left=Solution().merge_sort(left)  #重複呼叫pile涵數來處裡分割，直到分到只剩一個元素\n",
    "            right=Solution().merge_sort(right)\n",
    "        return Solution().sort(left,right) #後來才知道要呼叫 class裡的其他 function要用 MergeSort().sort()，不然程式碼執行時會以為sort()是外面定義的function\n",
    "                       \n",
    "    def sort(self,left,right): #再進行排序 \n",
    "        M=[] \n",
    "        i=0 \n",
    "        j=0\n",
    "        #一開始用 for迴圈讓整個排序可以執行整個陣列的次數\n",
    "        for n in range(len(left)+len(right)):\n",
    "            #如果left裡數的index超出整個 list的長度，就代表left裡的數都比完放進M裡\n",
    "            #只剩right裡還有數，那就把 right裡剩下的數全部新增到 M\n",
    "            \n",
    "            if i>len(left)-1:\n",
    "                for y in right[j:]: \n",
    "                    M.append(y)\n",
    "                break   #我後來發現要用break來停止這個迴圈，不然會重複新增數到 M裡\n",
    "                \n",
    "            elif j>len(right)-1:\n",
    "                for x in left[i:]:\n",
    "                    M.append(x)\n",
    "                break              \n",
    "            elif (left[i]<=right[j]):\n",
    "                M.append(left[i])\n",
    "                i+=1         \n",
    "            elif (left[i]>right[j]):\n",
    "                M.append(right[j])\n",
    "                j+=1          \n",
    "     \n",
    "        return M"
   ]
  },
  {
   "cell_type": "markdown",
   "metadata": {},
   "source": [
    "# heap_sort\n",
    "heap sort是把資料先建構成 heap的格式，然後再把頭取出，把尾放到頭，重新建構正確的heap格式，重複執行直到所有資料被排序好。\n",
    "因為資料每次輸入進去後都要先符合 heap 格式，就算資料量很小，也要經過繁複的過程才會變成「可運算」格式，且數字的位置也會影響到heap的運算時間，所以相較來說heap sort比較不穩定(排序受到資料影響)"
   ]
  },
  {
   "cell_type": "code",
   "execution_count": 2,
   "metadata": {},
   "outputs": [],
   "source": [
    "class Solution(object):   \n",
    "    def heap_sort(self, nums):\n",
    "        \"\"\"\n",
    "        :type nums: List[int] ex:[3,2,-4,6,4,2,19],[5,1,1,2,0,0]\n",
    "        :rtype: List[int] ex:[-4,2,2,3,4,6,19],[0,0,1,1,2,5]\n",
    "        \"\"\"\n",
    "        n=len(nums)\n",
    "        for i in range(n-1,-1,-1):\n",
    "            Solution().heapify(nums,n,i)\n",
    "        for i in range(n-1,0,-1):\n",
    "            nums[i],nums[0]=nums[0],nums[i]\n",
    "            Solution().heapify(nums,i,0)\n",
    "        return nums\n",
    "    \n",
    "\n",
    "    def heapify(self,nums,n,i):\n",
    "        root=i\n",
    "        left=2*i+1\n",
    "        right=2*i+2\n",
    "        if left < n and nums[left] > nums[root]:\n",
    "            root = left\n",
    "        if right < n and nums[right] > nums[root] :\n",
    "            root = right\n",
    "        if root != i:\n",
    "            nums[root],nums[i]=nums[i],nums[root]\n",
    "            Solution().heapify(nums,n,root)\n"
   ]
  }
 ],
 "metadata": {
  "kernelspec": {
   "display_name": "Python 3",
   "language": "python",
   "name": "python3"
  },
  "language_info": {
   "codemirror_mode": {
    "name": "ipython",
    "version": 3
   },
   "file_extension": ".py",
   "mimetype": "text/x-python",
   "name": "python",
   "nbconvert_exporter": "python",
   "pygments_lexer": "ipython3",
   "version": "3.6.5"
  }
 },
 "nbformat": 4,
 "nbformat_minor": 2
}
