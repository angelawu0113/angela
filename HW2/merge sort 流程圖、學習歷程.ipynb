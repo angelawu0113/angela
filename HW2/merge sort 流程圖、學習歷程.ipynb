{
 "cells": [
  {
   "cell_type": "markdown",
   "metadata": {},
   "source": [
    "## 什麼是Merge Sort?<br>\n",
    "屬於Divide and Conquer演算法，把問題先拆解(divide)成子問題，並在逐一處理子問題後，將子問題的結果合併(conquer)，如此便解決了原先的問題\n",
    "### 概念：\n",
    "##### 先分割<br>\n",
    "1.把大陣列切一半成為兩個小陣列<br>\n",
    "2.把切好的兩個小陣列再各自切一半<br>\n",
    "3.重複步驟2直到每個小陣列都只剩一個元素<br>\n",
    "##### 再排序<br>\n",
    "1.排序兩個只剩一個元素的小陣列並合併<br>\n",
    "2.把兩邊排序好的小陣列合併並排序成一個陣列<br>\n",
    "3.重複步驟二直到所有小陣列都合併成一個大陣列<br>\n",
    "<br>\n",
    "資料來源:https://medium.com/appworks-school/%E5%88%9D%E5%AD%B8%E8%80%85%E5%AD%B8%E6%BC%94%E7%AE%97%E6%B3%95-%E6%8E%92%E5%BA%8F%E6%B3%95%E9%80%B2%E9%9A%8E-%E5%90%88%E4%BD%B5%E6%8E%92%E5%BA%8F%E6%B3%95-6252651c6f7e\n",
    "### 我的想法：<br>\n",
    "我想要寫2個function，一個來處理分割，先把陣列拆成很多個只剩一個數的小陣列；另一個來處理排序，把剛才的小陣列左右排序合併成一個陣列，重複左右排序，最後再合併2個function來完成Merge Sort<br>"
   ]
  },
  {
   "cell_type": "markdown",
   "metadata": {},
   "source": [
    "![text](https://github.com/angelawu0113/angela/blob/master/week6/merge%20sort%E6%B5%81%E7%A8%8B%E5%9C%96.jpg?raw=true)"
   ]
  },
  {
   "cell_type": "code",
   "execution_count": 31,
   "metadata": {},
   "outputs": [],
   "source": [
    "def merge_sort(nums):#首先定義一個分割陣列的涵式\n",
    "        \n",
    "        left=[]\n",
    "        right=[]\n",
    "        middle=len(nums)//2 #定義中間數的index\n",
    "        if len(nums)<=1: #如果陣列長度是0、1就可以不用分割，直接回傳此陣列\n",
    "            return nums\n",
    "        else: #陣列長度大於1，進行分割\n",
    "            for n in nums[0:middle]: #將middle以前的數新增到left\n",
    "                left.append(n)\n",
    "                print(left)\n",
    "            for n in nums[middle:]: #從middle以後的數新增到right\n",
    "                right.append(n) \n",
    "                print(right)\n",
    "            left = merge_sort(left) #重複呼叫pile涵數來處裡分割，直到分到只剩一個元素\n",
    "            right = merge_sort(right)\n",
    "        return left,right\n",
    "    "
   ]
  },
  {
   "cell_type": "code",
   "execution_count": 32,
   "metadata": {},
   "outputs": [
    {
     "name": "stdout",
     "output_type": "stream",
     "text": [
      "[4]\n",
      "[4, 57]\n",
      "[4, 57, 2]\n",
      "[4, 57, 2, 41]\n",
      "[3]\n",
      "[3, 67]\n",
      "[3, 67, 44]\n",
      "[3, 67, 44, 7]\n",
      "[4]\n",
      "[4, 57]\n",
      "[2]\n",
      "[2, 41]\n",
      "[4]\n",
      "[57]\n",
      "[2]\n",
      "[41]\n",
      "[3]\n",
      "[3, 67]\n",
      "[44]\n",
      "[44, 7]\n",
      "[3]\n",
      "[67]\n",
      "[44]\n",
      "[7]\n"
     ]
    },
    {
     "data": {
      "text/plain": [
       "((([4], [57]), ([2], [41])), (([3], [67]), ([44], [7])))"
      ]
     },
     "execution_count": 32,
     "metadata": {},
     "output_type": "execute_result"
    }
   ],
   "source": [
    "a=[4,57,2,41,3,67,44,7]#測試結果：成功，陣列裡的數字都被分割成只有一個元素\n",
    "merge_sort(a)"
   ]
  },
  {
   "cell_type": "markdown",
   "metadata": {},
   "source": [
    "一個一個列出來這樣方便我看出來整個過程是怎麼進行的"
   ]
  },
  {
   "cell_type": "markdown",
   "metadata": {},
   "source": [
    "在寫排序的function時我卡了很久，一開始寫出來的執行結果只會排序了幾個數字，剩下的數都會不見，後來上網查資料後才知道要用range()來讓for迴圈執行整個陣列的次數，才解決整個陣列的數都有排序到，還有很多其他的問題，所以去網路上查資料才寫出來這段程式碼。"
   ]
  },
  {
   "cell_type": "code",
   "execution_count": 1,
   "metadata": {},
   "outputs": [],
   "source": [
    "def sort(left,right): #再進行排序\n",
    "        M=[] \n",
    "        i=0 \n",
    "        j=0\n",
    "        #一開始用 for迴圈讓整個排序可以執行整個陣列的次數\n",
    "        for n in range(len(left)+len(right)):\n",
    "            #如果left裡數的index超出整個 list的長度，就代表left裡的數都比完放進M裡\n",
    "            #只剩right裡還有數，那就把 right裡剩下的數全部新增到 M\n",
    "            if i>len(left)-1:\n",
    "                for y in right[j:]: \n",
    "                    M.append(y)\n",
    "                break    \n",
    "            elif j>len(right)-1:\n",
    "                for x in left[i:]:\n",
    "                    M.append(x)\n",
    "                break                 \n",
    "            elif (left[i]<=right[j]): \n",
    "                M.append(left[i])\n",
    "                i+=1    \n",
    "                \n",
    "            elif (left[i]>right[j]):\n",
    "                M.append(right[j])\n",
    "                j+=1          \n",
    "     \n",
    "        return M"
   ]
  },
  {
   "cell_type": "code",
   "execution_count": 2,
   "metadata": {},
   "outputs": [
    {
     "data": {
      "text/plain": [
       "[0, 4, 5, 13, 41, 55, 68, 79, 90, 100]"
      ]
     },
     "execution_count": 2,
     "metadata": {},
     "output_type": "execute_result"
    }
   ],
   "source": [
    "l=[4,5,13,79,100] \n",
    "r=[0,41,55,68,90]\n",
    "sort(l,r)"
   ]
  },
  {
   "cell_type": "markdown",
   "metadata": {},
   "source": [
    "最後再用class合併2個function"
   ]
  },
  {
   "cell_type": "code",
   "execution_count": 12,
   "metadata": {},
   "outputs": [],
   "source": [
    "class Solution(object):\n",
    "    def merge_sort(self,nums):\n",
    "        left=[]\n",
    "        right=[]\n",
    "        middle=len(nums)//2 \n",
    "        if len(nums)<=1:\n",
    "            return nums\n",
    "        else: \n",
    "            for n in nums[0:middle]: \n",
    "                left.append(n)\n",
    "            for n in nums[middle:]: \n",
    "                right.append(n) \n",
    "            left=Solution().merge_sort(left)\n",
    "            right=Solution().merge_sort(right)\n",
    "        return Solution().sort(left,right) #後來才知道要呼叫 class裡的其他 function要用 MergeSort().sort()，不然程式碼執行時會以為sort()是外面定義的function\n",
    "                       \n",
    "    def sort(self,left,right): \n",
    "        M=[] \n",
    "        i=0 \n",
    "        j=0\n",
    "        for n in range(len(left)+len(right)):\n",
    "            if i>len(left)-1:\n",
    "                for y in right[j:]: \n",
    "                    M.append(y)\n",
    "                break #我後來發現要用break來停止這個迴圈，不然會重複新增數到 M裡\n",
    "                \n",
    "            elif j>len(right)-1:\n",
    "                for x in left[i:]:\n",
    "                    M.append(x)\n",
    "                break              \n",
    "            elif (left[i]<=right[j]):\n",
    "                M.append(left[i])\n",
    "                i+=1         \n",
    "            elif (left[i]>right[j]):\n",
    "                M.append(right[j])\n",
    "                j+=1          \n",
    "     \n",
    "        return M"
   ]
  },
  {
   "cell_type": "code",
   "execution_count": 13,
   "metadata": {},
   "outputs": [
    {
     "data": {
      "text/plain": [
       "[0, 2, 4, 7, 24, 24, 75, 142]"
      ]
     },
     "execution_count": 13,
     "metadata": {},
     "output_type": "execute_result"
    }
   ],
   "source": [
    "list=[4,24,142,75,2,0,24,7] #測試結果：成功排序，完成 merge sort\n",
    "Solution().merge_sort(list)"
   ]
  }
 ],
 "metadata": {
  "kernelspec": {
   "display_name": "Python 3",
   "language": "python",
   "name": "python3"
  },
  "language_info": {
   "codemirror_mode": {
    "name": "ipython",
    "version": 3
   },
   "file_extension": ".py",
   "mimetype": "text/x-python",
   "name": "python",
   "nbconvert_exporter": "python",
   "pygments_lexer": "ipython3",
   "version": "3.6.5"
  }
 },
 "nbformat": 4,
 "nbformat_minor": 2
}
