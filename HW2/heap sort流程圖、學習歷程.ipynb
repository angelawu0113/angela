{
 "cells": [
  {
   "cell_type": "markdown",
   "metadata": {},
   "source": [
    "## 什麼是Heap Sort?\n",
    "概念就是建構一個樹的結構，最上面的數為root(根)，每個數底下有2個數(左邊小孩、右邊小孩)，一層的數填滿後才會進到下一層，Heap 允許沒有右邊小孩，然後可以建構成Max heap(父母的值大於小孩的值)或 Min heap(父母的值小於小孩的值)。建構完heap的結構後，再取出頭放到尾，尾放到頭整理成 heap 格式，重複循環直到資料都被排序好，就完成Heap Sort了。\n",
    "\n",
    "\n",
    "<br>\n",
    "資料來源:\n",
    "### 我的想法：\n",
    "一開始還不知道該怎麼去寫 Heap Sort，所以先去理解老師給的Heap Sort參考資料，看看會想到什麼方法來寫<br>\n",
    "參考資料：https://github.com/pecu/DSA/blob/master/06_HeapSort/heapSort.py"
   ]
  },
  {
   "cell_type": "markdown",
   "metadata": {},
   "source": [
    "這是我理解老師給的 Heap Sort 程式碼的步驟，看著程式碼一步一步理解 Heap Sort 的概念"
   ]
  },
  {
   "cell_type": "markdown",
   "metadata": {},
   "source": [
    "![text](https://github.com/angelawu0113/angela/blob/master/week6/heap%20sort%E6%B5%81%E7%A8%8B%E5%9C%961.jpg?raw=true)"
   ]
  },
  {
   "cell_type": "markdown",
   "metadata": {},
   "source": [
    "![text](https://github.com/angelawu0113/angela/blob/master/week6/heap%20sort%E6%B5%81%E7%A8%8B%E5%9C%962.jpg?raw=true)"
   ]
  },
  {
   "cell_type": "markdown",
   "metadata": {},
   "source": [
    "![text](https://github.com/angelawu0113/angela/blob/master/week6/heap%20sort%E6%B5%81%E7%A8%8B%E5%9C%963.jpg?raw=true)"
   ]
  },
  {
   "cell_type": "markdown",
   "metadata": {},
   "source": [
    "![text](https://github.com/angelawu0113/angela/blob/master/week6/heap%20sort%E6%B5%81%E7%A8%8B%E5%9C%964.jpg?raw=true)"
   ]
  },
  {
   "cell_type": "markdown",
   "metadata": {},
   "source": [
    "寫完整個過程全部都想通後，我開始不看參考資料，用自己的理解來寫程式碼"
   ]
  },
  {
   "cell_type": "code",
   "execution_count": 13,
   "metadata": {},
   "outputs": [],
   "source": [
    "def heapify(nums,n,i): #定義 heapify 把陣列變成符合 max heap 的格式\n",
    "    \n",
    "    #定義根(最大)、左邊小孩、右邊小孩的位置\n",
    "    root=i \n",
    "    left=2*i+1 \n",
    "    right=2*i+2 \n",
    "    \n",
    "    if left < n and nums[left] > nums[root]: #如果左邊小孩的值大於根的值，就把左邊小孩的位置定為新的根的位置\n",
    "        root = left\n",
    "    if right < n and nums[right] > nums[root] :#如果右邊小孩的值大於根的值，就把右邊小孩的位置定為新的根的位置\n",
    "        root = right\n",
    "    if root != i:  #如果根不等於原來的位置，就把2個值交換\n",
    "        nums[root],nums[i]=nums[i],nums[root]\n",
    "        heapify(nums,n,root)  #重複呼叫 heapify()來把整個陣列變成符合max heap的格式\n",
    "    return nums"
   ]
  },
  {
   "cell_type": "code",
   "execution_count": 14,
   "metadata": {},
   "outputs": [
    {
     "data": {
      "text/plain": [
       "[546, 13, 6, 12, 1, 4, 3]"
      ]
     },
     "execution_count": 14,
     "metadata": {},
     "output_type": "execute_result"
    }
   ],
   "source": [
    "list=[4,13,546,12,1,6,3]  #測試結果：成功，max heap 的格式\n",
    "heapify(list,6,0)"
   ]
  },
  {
   "cell_type": "markdown",
   "metadata": {},
   "source": [
    "再寫排序的function：heap_sort"
   ]
  },
  {
   "cell_type": "code",
   "execution_count": 15,
   "metadata": {},
   "outputs": [],
   "source": [
    "def heap_sort(nums):\n",
    "    n=len(nums)\n",
    "    for i in range(n-1,-1,-1):\n",
    "        heapify(nums,n,i)\n",
    "    for i in range(n-1,0,-1): #從最後一個數開始一個一個跑到陣列的第2個位置，第一個數不跑\n",
    "        nums[i],nums[0]=nums[0],nums[i] #把最後一個數跟第一個數交換\n",
    "        heapify(nums,i,0) #重複呼叫 heapify()，heapify 的 n 餵 i，這樣會隨著迴圈的遞減，不執行到最後一個數，而最後一個數就會是排序好的\n",
    "    return nums"
   ]
  },
  {
   "cell_type": "code",
   "execution_count": 16,
   "metadata": {},
   "outputs": [
    {
     "data": {
      "text/plain": [
       "[1, 3, 4, 6, 12, 13, 546]"
      ]
     },
     "execution_count": 16,
     "metadata": {},
     "output_type": "execute_result"
    }
   ],
   "source": [
    "list=[546, 13, 6, 12, 1, 4, 3] #用剛才 heapify 過的結果來測試：成功完成\n",
    "heap_sort(list)"
   ]
  },
  {
   "cell_type": "markdown",
   "metadata": {},
   "source": [
    "### 心得：\n",
    "我覺得 Heap Sort 真的很複雜，可能要執行某個 function 還需要把資料餵到另一個 function 來運算，最後再輸出結果，光是這部分我就花了很多時間想通，但是經過這次用紙筆寫下來理解別人的程式碼，真的一個步驟一個步驟能夠想通寫出來的時候，真的讓我收穫很多！"
   ]
  }
 ],
 "metadata": {
  "kernelspec": {
   "display_name": "Python 3",
   "language": "python",
   "name": "python3"
  },
  "language_info": {
   "codemirror_mode": {
    "name": "ipython",
    "version": 3
   },
   "file_extension": ".py",
   "mimetype": "text/x-python",
   "name": "python",
   "nbconvert_exporter": "python",
   "pygments_lexer": "ipython3",
   "version": "3.6.5"
  }
 },
 "nbformat": 4,
 "nbformat_minor": 2
}
