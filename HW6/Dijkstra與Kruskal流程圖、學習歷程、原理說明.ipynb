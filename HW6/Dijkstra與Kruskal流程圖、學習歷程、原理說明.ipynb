{
 "cells": [
  {
   "cell_type": "markdown",
   "metadata": {},
   "source": [
    "# Dijkstra原理\n",
    "是以某一節點當作起點，由起點出發到所有其他節點的最短路徑。首先訂好一個起點後，走到與起點距離最近的鄰點，再由此鄰點走到跟它距離最近的鄰點，以此類推直到所有節點都被走過後就完成了，而走過的節點就是最短路徑。\n",
    "![text](https://github.com/angelawu0113/angela/blob/master/week12/Dijkstra%E6%A6%82%E5%BF%B5%E5%9C%96.jpg?raw=true)"
   ]
  },
  {
   "cell_type": "markdown",
   "metadata": {},
   "source": [
    "# Kruskal原理\n",
    "也是一種尋找最短路徑的方法，首先將所有2點之間的距離由小到大排序，再按照順序選取每條邊，在選取時其中一個點作為另一點的根，直到所有點的根都為同一個根為止，就會產生最短距離了。\n",
    "![text](https://github.com/angelawu0113/angela/blob/master/week12/Kruskal%E6%A6%82%E5%BF%B5%E5%9C%96.jpg?raw=true)"
   ]
  },
  {
   "cell_type": "markdown",
   "metadata": {},
   "source": [
    "# Dijkstra與Kruskal比較\n",
    "2個方法不同的地方在於，Dijkstra是指定一個起點開始走，看起點與鄰點的距離，選擇距離較近的鄰點作為下一個走訪的節點，再由該節點去看他與他的鄰點選擇最小的連點作為下一個走訪的節點，以此類推去找到最短路徑；而Kruskal是不指定起點，直接把所有邊的距離由小到大排序，直接由邊的距離來加，直到所有的點都指向同一個根為止，最後走過的距離加總就是最短距離，也就是最短路徑。\n",
    "\n",
    "### 參考資料\n",
    "(1) https://www.runoob.com/python/att-list-min.html<br>\n",
    "(2) https://blog.csdn.net/lachesis999/article/details/53185299<br>\n",
    "(3) https://docs.google.com/presentation/d/e/2PACX-1vTgHO5AkHJS6iN6bnnBMMdHv6E4rabnrC0KwyTRfjad8Ab3IQjbnGvZuQOjDC9t7nKqeroiwcuasJrI/pub?start=false&loop=false&delayms=3000&slide=id.g75dced35f7_0_5\n",
    "(4)https://www.youtube.com/watch?v=NLp9C7AvJhk"
   ]
  },
  {
   "cell_type": "markdown",
   "metadata": {},
   "source": [
    "# 學習歷程"
   ]
  },
  {
   "cell_type": "markdown",
   "metadata": {},
   "source": [
    "### 第一版：自己先寫寫看，找到min()、.index()方法\n",
    "一開始還不太清楚Dijkstra的規則是什麼，所以就先嘗試看看，我有想到好像需要找到最小的數值，但在self.graph裡還有0，所以我就想到可以用for來把非0的數加進空list裡，但還沒想到要怎麼找到最小的數，後來就上網查了怎麼樣可以找到list裡非0的最小數，就找到了可以用min()，因為要找有最短距離的節點，所以也需要用到index值，我後來也上網查到可以用.index()的方式來寫，雖然沒有寫出什麼，但我知道了這2個方法，以下是我的程式碼"
   ]
  },
  {
   "cell_type": "code",
   "execution_count": 19,
   "metadata": {},
   "outputs": [],
   "source": [
    "from collections import defaultdict \n",
    "\n",
    "#Class to represent a graph \n",
    "class Graph(): \n",
    "\n",
    "    def __init__(self, vertices): \n",
    "        self.V = vertices \n",
    "        self.graph = [] \n",
    "        self.graph_matrix = [[0 for column in range(vertices)]  \n",
    "                    for row in range(vertices)] \n",
    "        \n",
    "    def Dijkstra(self, s): \n",
    "        dist = []\n",
    "        for i in self.graph[s]: #把起點跟所有鄰點的距離都複製到 dist裡\n",
    "            dist.append(i)\n",
    "        n = [] #來放搜索到非0的數\n",
    "        path = [s] #來放走過的點，先放入起始點\n",
    "        for i in self.graph[s]:\n",
    "            if i !=0:\n",
    "                n.append(i)\n",
    "                \n",
    "        print(\"n:\",n)\n",
    "        for i in n:\n",
    "            index = self.graph[s].index(min(n))\n",
    "            dist[index] = i\n",
    "            path.append(i)\n",
    "        return dist,path\n",
    "                "
   ]
  },
  {
   "cell_type": "code",
   "execution_count": 20,
   "metadata": {},
   "outputs": [
    {
     "name": "stdout",
     "output_type": "stream",
     "text": [
      "n: [4, 8]\n",
      "Dijkstra ([0, 8, 0, 0, 0, 0, 0, 8, 0], [0, 4, 8])\n"
     ]
    }
   ],
   "source": [
    "g = Graph(9)\n",
    "g.graph=[[0,4,0,0,0,0,0,8,0],\n",
    "         [4,0,8,0,0,0,0,11,0],\n",
    "         [0,8,0,7,0,4,0,0,2],\n",
    "         [0,0,7,0,9,14,0,0,0],\n",
    "         [0,0,0,9,0,10,0,0,0],\n",
    "         [0,0,4,14,10,0,2,0,0],\n",
    "         [0,0,0,0,0,2,0,1,6],\n",
    "         [8,11,0,0,0,0,1,0,7],\n",
    "         [0,0,2,0,0,0,6,7,0]\n",
    "    \n",
    "         ];\n",
    "print(\"Dijkstra\",g.Dijkstra(0))\n"
   ]
  },
  {
   "cell_type": "markdown",
   "metadata": {},
   "source": [
    "### 第二版：理解規則後，試著寫了for迴圈\n",
    "後來我照著老師教的自己寫寫看Dijkstra，去觀察它的規則，我發現規則不外乎就是 1.找到點跟其他點之間距離最小的節點當成下一個走訪的點 2.處理距離的變化，剩下的就是要能夠重複的做這2件事，就能寫出Dijkstra了，所以我各寫了一個for迴圈來處理1、2，最外面再用for i in range來讓整2個for迴圈能連起來一直跑"
   ]
  },
  {
   "cell_type": "code",
   "execution_count": 21,
   "metadata": {},
   "outputs": [],
   "source": [
    "from collections import defaultdict \n",
    "\n",
    "#Class to represent a graph \n",
    "class Graph(): \n",
    "\n",
    "    def __init__(self, vertices): \n",
    "        self.V = vertices \n",
    "        self.graph = [] \n",
    "        self.graph_matrix = [[0 for column in range(vertices)]  \n",
    "                    for row in range(vertices)] \n",
    "        \n",
    "    def Dijkstra(self, s): \n",
    "        dist = []\n",
    "        for i in self.graph[s]:\n",
    "            dist.append(i)\n",
    "        n = [] \n",
    "        path = [s] \n",
    "            \n",
    "        for i in range(len(self.graph)):             \n",
    "            for y in self.graph[path[-1]]:\n",
    "                if y != 0 and i not in path:\n",
    "                    n.append(y)\n",
    "                    index_min = self.graph[path[-1]].index(min(n))\n",
    "                    path.append(index_min)\n",
    "                    n = []\n",
    "            for x in self.graph[path[-1]]:\n",
    "                if x != 0 and i not in path:\n",
    "                    d = x + dist[path[-1]]\n",
    "                    if d < dist[i]:\n",
    "                        dist[i] = d\n",
    "        return dist,path\n",
    "        \n",
    "\n",
    "  "
   ]
  },
  {
   "cell_type": "code",
   "execution_count": 22,
   "metadata": {},
   "outputs": [
    {
     "name": "stdout",
     "output_type": "stream",
     "text": [
      "Dijkstra ([0, 4, 0, 0, 0, 0, 0, 8, 0], [0, 1, 0, 7, 1, 0, 7, 1, 0, 7, 1, 0, 7, 1, 0, 7, 1, 0, 7, 1])\n"
     ]
    }
   ],
   "source": [
    "g = Graph(9)\n",
    "g.graph=[[0,4,0,0,0,0,0,8,0],\n",
    "         [4,0,8,0,0,0,0,11,0],\n",
    "         [0,8,0,7,0,4,0,0,2],\n",
    "         [0,0,7,0,9,14,0,0,0],\n",
    "         [0,0,0,9,0,10,0,0,0],\n",
    "         [0,0,4,14,10,0,2,0,0],\n",
    "         [0,0,0,0,0,2,0,1,6],\n",
    "         [8,11,0,0,0,0,1,0,7],\n",
    "         [0,0,2,0,0,0,6,7,0]\n",
    "    \n",
    "         ];\n",
    "print(\"Dijkstra\",g.Dijkstra(0))\n"
   ]
  },
  {
   "cell_type": "markdown",
   "metadata": {},
   "source": [
    "但最後測試結果後還是行不通，我用來放距離的list只有一開始加進去的數字，它沒有變化，而且我的path只加進了3個正確的點，剩下的都是重複的數值"
   ]
  },
  {
   "cell_type": "markdown",
   "metadata": {},
   "source": [
    "### 第三版：寫了額外fuction，再呼叫\n",
    "因為我一直不知道該怎麼把2個for迴圈串起來，所以後來想到那我乾脆寫一個1(找最小點)的fuction，再呼叫它就好，又做了一個嘗試有了第四版"
   ]
  },
  {
   "cell_type": "code",
   "execution_count": 23,
   "metadata": {},
   "outputs": [],
   "source": [
    "from collections import defaultdict \n",
    "\n",
    "#Class to represent a graph \n",
    "class Graph(): \n",
    "\n",
    "    def __init__(self, vertices): \n",
    "        self.V = vertices \n",
    "        self.graph = [] \n",
    "        self.graph_matrix = [[0 for column in range(vertices)]  \n",
    "                    for row in range(vertices)] \n",
    "        \n",
    "    def Dijkstra(self, s): \n",
    "        dist = []\n",
    "        for i in self.graph[s]:\n",
    "            dist.append(i)\n",
    "        n = [] \n",
    "        path = [s] \n",
    "    \n",
    "        \n",
    "        path = self.findmin(s)\n",
    "        for i in self.graph[path[-1]]: \n",
    "            if i != 0 and self.graph[path[-1]].index(i) not in path:\n",
    "                n.append(i)\n",
    "                d = i + dist[path[-1]]\n",
    "                if d < dist[self.graph[path[-1]].index(i)]:\n",
    "                    dist[self.graph[path[-1]].index(i)] = d\n",
    "        path.append(self.graph[path[-1]].index(min(n)))\n",
    "        n = []   \n",
    "        \n",
    "        return dist,path,n\n",
    "            \n",
    "                  \n",
    "        \n",
    "    def findmin(self,x): #用來找非0最小數的 index 值\n",
    "        n = []\n",
    "        path = [x]\n",
    "        for i in self.graph[x]:\n",
    "            if i != 0:\n",
    "                n.append(i)\n",
    "        index_min = self.graph[x].index(min(n))\n",
    "        n = []\n",
    "        path.append(index_min)\n",
    "        return path\n",
    "        \n",
    "       "
   ]
  },
  {
   "cell_type": "code",
   "execution_count": 24,
   "metadata": {},
   "outputs": [
    {
     "name": "stdout",
     "output_type": "stream",
     "text": [
      "Dijkstra ([0, 4, 0, 0, 0, 0, 0, 8, 0], [0, 1, 2], [])\n"
     ]
    }
   ],
   "source": [
    "g = Graph(9)\n",
    "g.graph=[[0,4,0,0,0,0,0,8,0],\n",
    "         [4,0,8,0,0,0,0,11,0],\n",
    "         [0,8,0,7,0,4,0,0,2],\n",
    "         [0,0,7,0,9,14,0,0,0],\n",
    "         [0,0,0,9,0,10,0,0,0],\n",
    "         [0,0,4,14,10,0,2,0,0],\n",
    "         [0,0,0,0,0,2,0,1,6],\n",
    "         [8,11,0,0,0,0,1,0,7],\n",
    "         [0,0,2,0,0,0,6,7,0]\n",
    "    \n",
    "         ];\n",
    "print(\"Dijkstra\",g.Dijkstra(0))\n"
   ]
  },
  {
   "cell_type": "markdown",
   "metadata": {},
   "source": [
    "### 第四版：用while來連結2個for迴圈，再使用字典形式輸出\n",
    "後來再寫的時候發現有可能在走訪self.graph的時候有些節點還沒走過的話就會是零，那我一開始設距離比它小才能新增進去，那我永遠不能新增沒走過的節點的距離進去，所以後來多寫了一個if條件來處理這個情況"
   ]
  },
  {
   "cell_type": "code",
   "execution_count": 25,
   "metadata": {},
   "outputs": [],
   "source": [
    "#成功的版本\n",
    "from collections import defaultdict \n",
    "\n",
    "#Class to represent a graph \n",
    "class Graph(): \n",
    "\n",
    "    def __init__(self, vertices): \n",
    "        self.V = vertices \n",
    "        self.graph = [] \n",
    "        self.graph_matrix = [[0 for column in range(vertices)]  \n",
    "                    for row in range(vertices)] \n",
    "        \n",
    "    def Dijkstra(self, s): \n",
    "        x = {}\n",
    "        dist = []    #放起點跟各點的距離\n",
    "        for i in self.graph[s]:  #先把起始點到各點的距離加進去\n",
    "            dist.append(i)\n",
    "        n = []  #來放搜索到非 0的數\n",
    "        path = [s]  #來放走過的點，先放入起始點\n",
    "        \n",
    "        while len(path) < len(self.graph):    #後來用 while 才讓 path、dist能一直加數字進去\n",
    "            \n",
    "            #先找到最小的數加進 path裡\n",
    "            for i in range(len(self.graph)):    \n",
    "                if dist[i] !=0 and i not in path:\n",
    "                    n.append(dist[i])       \n",
    "            path.append(dist.index(min(n))) #先在n裡找到最小值 \n",
    "            n = []      #再清空 n，才不會一直加非 0的數進去\n",
    "        \n",
    "        \n",
    "            #再處理距離的變化\n",
    "            for i in self.graph[path[-1]]:            \n",
    "                if i != 0 and self.graph[path[-1]].index(i) not in path:  \n",
    "                    d = i + dist[path[-1]]\n",
    "                    if dist[self.graph[path[-1]].index(i)] == 0:   #多一個判斷，如果此點還沒被走過(是0)那就把距離存進去\n",
    "                        dist[self.graph[path[-1]].index(i)] = d\n",
    "                    elif d < dist[self.graph[path[-1]].index(i)]: \n",
    "                        dist[self.graph[path[-1]].index(i)] = d\n",
    "        for i in dist:      \n",
    "            x[str(dist.index(i))] = i \n",
    "        \n",
    "        return x  "
   ]
  },
  {
   "cell_type": "code",
   "execution_count": 26,
   "metadata": {
    "scrolled": true
   },
   "outputs": [
    {
     "name": "stdout",
     "output_type": "stream",
     "text": [
      "Dijkstra {'0': 0, '1': 4, '2': 12, '3': 19, '4': 21, '5': 11, '6': 9, '7': 8, '8': 14}\n"
     ]
    }
   ],
   "source": [
    "g = Graph(9)\n",
    "g.graph=[[0,4,0,0,0,0,0,8,0],\n",
    "         [4,0,8,0,0,0,0,11,0],\n",
    "         [0,8,0,7,0,4,0,0,2],\n",
    "         [0,0,7,0,9,14,0,0,0],\n",
    "         [0,0,0,9,0,10,0,0,0],\n",
    "         [0,0,4,14,10,0,2,0,0],\n",
    "         [0,0,0,0,0,2,0,1,6],\n",
    "         [8,11,0,0,0,0,1,0,7],\n",
    "         [0,0,2,0,0,0,6,7,0]\n",
    "    \n",
    "         ];\n",
    "print(\"Dijkstra\",g.Dijkstra(0))\n"
   ]
  },
  {
   "cell_type": "markdown",
   "metadata": {},
   "source": [
    "最後測試結果，終於成功了！"
   ]
  },
  {
   "cell_type": "markdown",
   "metadata": {},
   "source": [
    "# 我的心得\n",
    "我覺得這次的作業比上一次的BFS、DFS來的難很多，邏輯上沒有那麼直觀好寫，這次也花了很多時間在想很多不同的方法，最後才終於想出來，經過這次我也發現到其實我還有很多不同的方法是我不會需要學習的，以後要再多加油了哈哈！(還有，我終於寫完了最後一次作業了!開心!!!"
   ]
  }
 ],
 "metadata": {
  "kernelspec": {
   "display_name": "Python 3",
   "language": "python",
   "name": "python3"
  },
  "language_info": {
   "codemirror_mode": {
    "name": "ipython",
    "version": 3
   },
   "file_extension": ".py",
   "mimetype": "text/x-python",
   "name": "python",
   "nbconvert_exporter": "python",
   "pygments_lexer": "ipython3",
   "version": "3.6.5"
  }
 },
 "nbformat": 4,
 "nbformat_minor": 2
}
