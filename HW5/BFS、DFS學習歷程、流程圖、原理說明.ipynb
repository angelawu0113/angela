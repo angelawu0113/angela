{
 "cells": [
  {
   "cell_type": "markdown",
   "metadata": {},
   "source": [
    "# BFS概念\n",
    "是一種圖形搜索演算法。從圖的某一節點當成頂點後開始走訪，接著走訪此一節點所有相鄰且未拜訪過的節點(當成level)，再由走訪過的節點(level)繼續進行到(level2)，直到走過全部節點。\n",
    "![text](https://github.com/angelawu0113/angela/blob/master/week10/BFS%E6%B5%81%E7%A8%8B%E5%9C%96.jpg?raw=true)"
   ]
  },
  {
   "cell_type": "markdown",
   "metadata": {},
   "source": [
    "# DFS概念\n",
    "也是一種圖形搜索演算法。從圖上某一節點當成頂點後開始走訪，把先遇到的鄰點當成新的搜尋起點，繼續走訪，直到所有「有邊相鄰的點」都被走訪過\n",
    "![text](https://github.com/angelawu0113/angela/blob/master/week10/DFS%E6%B5%81%E7%A8%8B%E5%9C%96.jpg?raw=true)"
   ]
  },
  {
   "cell_type": "markdown",
   "metadata": {},
   "source": [
    "# BFS與DFS原理比較\n",
    "BFS跟DFS的差別在於，BFS是用queue先進先出的方式來儲存鄰點，DFS是用stack新進後出的方式來儲存鄰點，所以2個執行出來的結果會不同\n",
    "\n",
    "參考資料：<br>\n",
    "if in 用法：https://www.jianshu.com/p/0a17e1d1e753<br>\n",
    "BFS、DFS概念：https://docs.google.com/presentation/d/e/2PACX-1vTma_vOZyE70O23KWw4I4Y78aAaT5fJSTq7Mae912kCwka_u5ZMWPoo14D86-x-57kZPbb6hAGktSW4/pub?start=false&loop=false&delayms=3000&slide=id.g7a5d8b85ee_0_23"
   ]
  },
  {
   "cell_type": "markdown",
   "metadata": {},
   "source": [
    "# 學習歷程\n",
    "第一版：\n",
    "自己先嘗試，想到什麼就打成程式碼<br>\n",
    "用2個list來放鄰點、還有最後的輸出結果(就是老師上課說的step1、step2)\n",
    "用if in來判斷self.graph(鄰點)有沒有在那2個list裡，沒有的話就可以把鄰點新增進node裡"
   ]
  },
  {
   "cell_type": "code",
   "execution_count": 1,
   "metadata": {},
   "outputs": [],
   "source": [
    "from collections import defaultdict \n",
    "class Graph:\n",
    "    \n",
    "    def __init__(self): \n",
    "        self.graph = defaultdict(list) \n",
    "\n",
    "    def addEdge(self,u,v): \n",
    "        self.graph[u].append(v) \n",
    "  \n",
    "    def BFS(self, s): \n",
    "        node = [s] #設一個空的list來放最後的結果，先放進起始點s\n",
    "        queue = self.graph[s] #設一個空的list來放鄰點，放進起始點s的鄰點\n",
    "        \n",
    "        for i in range(len(queue)): #執行queue的長度次數\n",
    "            if queue[i] != None:  #把鄰點新增進queue\n",
    "                node.append(queue[i])\n",
    "                for j in self.graph[queue[i]]: #用for來把每個鄰點一個一個判斷，再新增進queue裡\n",
    "                    if j not in queue:#判斷不在queue裡\n",
    "                        if j not in node: #判斷不在node裡\n",
    "                            queue.append(j) #才新增進queue\n",
    "        return node\n"
   ]
  },
  {
   "cell_type": "code",
   "execution_count": 2,
   "metadata": {},
   "outputs": [
    {
     "data": {
      "text/plain": [
       "[2, 0, 3]"
      ]
     },
     "execution_count": 2,
     "metadata": {},
     "output_type": "execute_result"
    }
   ],
   "source": [
    "g = Graph()\n",
    "g.addEdge(0,1)\n",
    "g.addEdge(0,2)\n",
    "g.addEdge(1,2)\n",
    "g.addEdge(2,0)\n",
    "g.addEdge(2,3)\n",
    "g.addEdge(3,3)\n",
    "g.BFS(2)"
   ]
  },
  {
   "cell_type": "markdown",
   "metadata": {},
   "source": [
    "正確結果應該要是[2,0,3,1]，但我少了最後一個數"
   ]
  },
  {
   "cell_type": "markdown",
   "metadata": {},
   "source": [
    "所以我測試了一下如果用for迴圈來執行一個長度為4的list，看看如果每執行一次就新增一個數，那最後執行的次數會不會也跟著變多"
   ]
  },
  {
   "cell_type": "code",
   "execution_count": 15,
   "metadata": {},
   "outputs": [
    {
     "name": "stdout",
     "output_type": "stream",
     "text": [
      "[0, 1, 2, 3, 1] 5\n",
      "[0, 1, 2, 3, 1, 1] 6\n",
      "[0, 1, 2, 3, 1, 1, 1] 7\n",
      "[0, 1, 2, 3, 1, 1, 1, 1] 8\n"
     ]
    }
   ],
   "source": [
    "a=[0,1,2,3]\n",
    "for i in range(len(a)):\n",
    "    a.append(1)\n",
    "    print(a,len(a))\n"
   ]
  },
  {
   "cell_type": "markdown",
   "metadata": {},
   "source": []
  },
  {
   "cell_type": "markdown",
   "metadata": {},
   "source": [
    "測試後發現，for迴圈執行的次數不會因為在執行時增加而增加，執行的次數就是原本的長度！\n",
    "所以我原本的想法是設for迴圈的條件是設跑queue的長度，本來以為這個迴圈會每跑一次就多新增數進去，所以我的queue長度就會增加，但是跑出來的結果就是原本queue的長度，所以我要更改for迴圈的條件，於是有了第二個版本"
   ]
  },
  {
   "cell_type": "markdown",
   "metadata": {},
   "source": [
    "第二版:<br>\n",
    "改了第一層for迴圈的條件就成功了<br>\n",
    "然後也用BFS的方法改寫了DFS，也成功了<br>"
   ]
  },
  {
   "cell_type": "code",
   "execution_count": 9,
   "metadata": {},
   "outputs": [],
   "source": [
    "from collections import defaultdict \n",
    "class Graph:\n",
    "    \n",
    "    def __init__(self): \n",
    "        self.graph = defaultdict(list) \n",
    "\n",
    "    def addEdge(self,u,v): \n",
    "        self.graph[u].append(v) \n",
    "  \n",
    "    def BFS(self, s): \n",
    "        node1 = [s]\n",
    "        queue = self.graph[s]\n",
    "        \n",
    "        for i in range(len(self.graph)-1): #後來改成 self.graph的長度 -1\n",
    "            if queue[i] != None:\n",
    "                node1.append(queue[i])\n",
    "                for j in self.graph[queue[i]]:\n",
    "                    if j not in queue:\n",
    "                        if j not in node1:\n",
    "                            queue.append(j)\n",
    "        return node1\n",
    "    \n",
    "    def DFS(self, s):\n",
    "        node2 = [s]\n",
    "        stack = self.graph[s]\n",
    "        \n",
    "        for x in range(len(self.graph)-1): #後來改成 self.graph的長度 -1\n",
    "            if stack[-1] != None: #DFS是由後面加進去的\n",
    "                node2.append(stack.pop(-1))\n",
    "                for y in self.graph[node2[-1]]:\n",
    "                    if y not in stack:\n",
    "                        if y not in node2:\n",
    "                            stack.append(y)\n",
    "        return node2"
   ]
  },
  {
   "cell_type": "code",
   "execution_count": 10,
   "metadata": {},
   "outputs": [
    {
     "data": {
      "text/plain": [
       "defaultdict(list, {0: [1, 2], 1: [2], 2: [0, 3], 3: [3]})"
      ]
     },
     "execution_count": 10,
     "metadata": {},
     "output_type": "execute_result"
    }
   ],
   "source": [
    "g = Graph()\n",
    "g.addEdge(0,1)\n",
    "g.addEdge(0,2)\n",
    "g.addEdge(1,2)\n",
    "g.addEdge(2,0)\n",
    "g.addEdge(2,3)\n",
    "g.addEdge(3,3)\n",
    "g.graph"
   ]
  },
  {
   "cell_type": "code",
   "execution_count": 3,
   "metadata": {},
   "outputs": [
    {
     "data": {
      "text/plain": [
       "[2, 0, 3, 1]"
      ]
     },
     "execution_count": 3,
     "metadata": {},
     "output_type": "execute_result"
    }
   ],
   "source": [
    "g.BFS(2)"
   ]
  },
  {
   "cell_type": "code",
   "execution_count": 11,
   "metadata": {},
   "outputs": [
    {
     "data": {
      "text/plain": [
       "defaultdict(list, {0: [1, 2], 1: [2], 2: [], 3: [3]})"
      ]
     },
     "execution_count": 11,
     "metadata": {},
     "output_type": "execute_result"
    }
   ],
   "source": [
    "g.DFS(2)\n",
    "g.graph"
   ]
  },
  {
   "cell_type": "code",
   "execution_count": 6,
   "metadata": {},
   "outputs": [
    {
     "ename": "IndexError",
     "evalue": "list index out of range",
     "output_type": "error",
     "traceback": [
      "\u001b[1;31m---------------------------------------------------------------------------\u001b[0m",
      "\u001b[1;31mIndexError\u001b[0m                                Traceback (most recent call last)",
      "\u001b[1;32m<ipython-input-6-63798b453b9a>\u001b[0m in \u001b[0;36m<module>\u001b[1;34m()\u001b[0m\n\u001b[1;32m----> 1\u001b[1;33m \u001b[0mprint\u001b[0m\u001b[1;33m(\u001b[0m\u001b[0mg\u001b[0m\u001b[1;33m.\u001b[0m\u001b[0mBFS\u001b[0m\u001b[1;33m(\u001b[0m\u001b[1;36m2\u001b[0m\u001b[1;33m)\u001b[0m\u001b[1;33m,\u001b[0m\u001b[0mg\u001b[0m\u001b[1;33m.\u001b[0m\u001b[0mDFS\u001b[0m\u001b[1;33m(\u001b[0m\u001b[1;36m2\u001b[0m\u001b[1;33m)\u001b[0m\u001b[1;33m)\u001b[0m\u001b[1;33m\u001b[0m\u001b[0m\n\u001b[0m",
      "\u001b[1;32m<ipython-input-1-d60021f0daed>\u001b[0m in \u001b[0;36mBFS\u001b[1;34m(self, s)\u001b[0m\n\u001b[0;32m     13\u001b[0m \u001b[1;33m\u001b[0m\u001b[0m\n\u001b[0;32m     14\u001b[0m         \u001b[1;32mfor\u001b[0m \u001b[0mi\u001b[0m \u001b[1;32min\u001b[0m \u001b[0mrange\u001b[0m\u001b[1;33m(\u001b[0m\u001b[0mlen\u001b[0m\u001b[1;33m(\u001b[0m\u001b[0mself\u001b[0m\u001b[1;33m.\u001b[0m\u001b[0mgraph\u001b[0m\u001b[1;33m)\u001b[0m\u001b[1;33m-\u001b[0m\u001b[1;36m1\u001b[0m\u001b[1;33m)\u001b[0m\u001b[1;33m:\u001b[0m \u001b[1;31m#後來改成 self.graph的長度 -1\u001b[0m\u001b[1;33m\u001b[0m\u001b[0m\n\u001b[1;32m---> 15\u001b[1;33m             \u001b[1;32mif\u001b[0m \u001b[0mqueue\u001b[0m\u001b[1;33m[\u001b[0m\u001b[0mi\u001b[0m\u001b[1;33m]\u001b[0m \u001b[1;33m!=\u001b[0m \u001b[1;32mNone\u001b[0m\u001b[1;33m:\u001b[0m\u001b[1;33m\u001b[0m\u001b[0m\n\u001b[0m\u001b[0;32m     16\u001b[0m                 \u001b[0mnode1\u001b[0m\u001b[1;33m.\u001b[0m\u001b[0mappend\u001b[0m\u001b[1;33m(\u001b[0m\u001b[0mqueue\u001b[0m\u001b[1;33m[\u001b[0m\u001b[0mi\u001b[0m\u001b[1;33m]\u001b[0m\u001b[1;33m)\u001b[0m\u001b[1;33m\u001b[0m\u001b[0m\n\u001b[0;32m     17\u001b[0m                 \u001b[1;32mfor\u001b[0m \u001b[0mj\u001b[0m \u001b[1;32min\u001b[0m \u001b[0mself\u001b[0m\u001b[1;33m.\u001b[0m\u001b[0mgraph\u001b[0m\u001b[1;33m[\u001b[0m\u001b[0mqueue\u001b[0m\u001b[1;33m[\u001b[0m\u001b[0mi\u001b[0m\u001b[1;33m]\u001b[0m\u001b[1;33m]\u001b[0m\u001b[1;33m:\u001b[0m\u001b[1;33m\u001b[0m\u001b[0m\n",
      "\u001b[1;31mIndexError\u001b[0m: list index out of range"
     ]
    }
   ],
   "source": [
    "print(g.BFS(2),g.DFS(2))"
   ]
  },
  {
   "cell_type": "markdown",
   "metadata": {},
   "source": [
    "後來在測試時發現，不知道為什麼每次單獨要呼叫BFS或DFS或2個一起叫出來時，就會出現error，或是單獨印出來跟一起印出來的答案會不一樣，以及呼叫過BFS、DFS後我的graph的數會跟一開始的不一樣！"
   ]
  },
  {
   "cell_type": "markdown",
   "metadata": {},
   "source": [
    "所以我就重新檢查我的程式碼，我覺得我的邏輯應該是沒錯的，所以我覺得有可能會錯的地方應該是一開始設來放鄰點的list那邊，所以後來又改寫了那邊，於是又有了第三版"
   ]
  },
  {
   "cell_type": "markdown",
   "metadata": {},
   "source": [
    "第三版：\n",
    "改了BFS、DFS用來放鄰點的list(queue、stack)"
   ]
  },
  {
   "cell_type": "code",
   "execution_count": 133,
   "metadata": {},
   "outputs": [],
   "source": [
    "from collections import defaultdict \n",
    "class Graph:\n",
    "    \n",
    "    def __init__(self): \n",
    "        self.graph = defaultdict(list) \n",
    "\n",
    "    def addEdge(self,u,v): \n",
    "        self.graph[u].append(v) \n",
    "  \n",
    "    def BFS(self, s): \n",
    "        node1 = [s]\n",
    "        queue = [] #後來改用新設一個空的list，再把起始點的每個鄰點用for一個一個新增進去\n",
    "        for n in self.graph[s]:\n",
    "            queue.append(n)\n",
    "        \n",
    "        for i in range(len(self.graph)-1):\n",
    "            if queue[i] != None:\n",
    "                node1.append(queue[i])\n",
    "                for j in self.graph[queue[i]]:\n",
    "                    if j not in queue:\n",
    "                        print(\"1:\",j)\n",
    "                        if j not in node1:\n",
    "                            print(\"2:\",j)\n",
    "                            queue.append(j)\n",
    "        return node1\n",
    "    \n",
    "    def DFS(self, s):\n",
    "        node2 = [s]\n",
    "        stack = [] #後來改用新設一個空的list，再把起始點的每個鄰點用for一個一個新增進去\n",
    "        for n in self.graph[s]:\n",
    "            stack.append(n)\n",
    "        \n",
    "        for x in range(len(self.graph)-1):\n",
    "            if stack[-1] != None:\n",
    "                node2.append(stack.pop(-1))\n",
    "                for y in self.graph[node2[-1]]:\n",
    "                    if y not in stack:\n",
    "                        print(\"3:\",y)\n",
    "                        if y not in node2:\n",
    "                            print(\"4:\",y)\n",
    "                            stack.append(y)\n",
    "        return node2"
   ]
  },
  {
   "cell_type": "code",
   "execution_count": 134,
   "metadata": {},
   "outputs": [
    {
     "data": {
      "text/plain": [
       "defaultdict(list, {0: [1, 2], 1: [2], 2: [0, 3], 3: [3]})"
      ]
     },
     "execution_count": 134,
     "metadata": {},
     "output_type": "execute_result"
    }
   ],
   "source": [
    "g = Graph()\n",
    "g.addEdge(0,1)\n",
    "g.addEdge(0,2)\n",
    "g.addEdge(1,2)\n",
    "g.addEdge(2,0)\n",
    "g.addEdge(2,3)\n",
    "g.addEdge(3,3)\n",
    "g.graph"
   ]
  },
  {
   "cell_type": "code",
   "execution_count": 135,
   "metadata": {},
   "outputs": [
    {
     "name": "stdout",
     "output_type": "stream",
     "text": [
      "1: 1\n",
      "2: 1\n",
      "1: 2\n",
      "1: 2\n",
      "3: 3\n",
      "3: 1\n",
      "4: 1\n",
      "3: 2\n",
      "3: 2\n",
      "[2, 0, 3, 1] [2, 3, 0, 1]\n"
     ]
    },
    {
     "data": {
      "text/plain": [
       "defaultdict(list, {0: [1, 2], 1: [2], 2: [0, 3], 3: [3]})"
      ]
     },
     "execution_count": 135,
     "metadata": {},
     "output_type": "execute_result"
    }
   ],
   "source": [
    "print(g.BFS(2),g.DFS(2))\n",
    "g.graph"
   ]
  },
  {
   "cell_type": "markdown",
   "metadata": {},
   "source": [
    "後來測試結果，經過呼叫BFS、DFS後再看graph，沒有再變動了而且答案也是正確的，終於成功了！(灑花"
   ]
  }
 ],
 "metadata": {
  "kernelspec": {
   "display_name": "Python 3",
   "language": "python",
   "name": "python3"
  },
  "language_info": {
   "codemirror_mode": {
    "name": "ipython",
    "version": 3
   },
   "file_extension": ".py",
   "mimetype": "text/x-python",
   "name": "python",
   "nbconvert_exporter": "python",
   "pygments_lexer": "ipython3",
   "version": "3.6.5"
  }
 },
 "nbformat": 4,
 "nbformat_minor": 2
}
