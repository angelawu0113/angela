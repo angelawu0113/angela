{
 "cells": [
  {
   "cell_type": "markdown",
   "metadata": {},
   "source": [
    "### 新增功能insert()：將輸入的數加入到Binary Search Tree裡，並符合Binary Search Tree的規則<br>\n",
    "##### 想法：判斷數的大小，分成左邊、右邊，比根小就新增在左邊，比根大就新增在右邊<br>\n",
    "1.如果輸入的數值小於根就來到左邊，再判斷是否有小孩，如果已有左邊小孩就把此數當成新的根，再重新呼叫insert()；如果沒有左邊小孩，就把數新增進左邊小孩<br>\n",
    "2.如果輸入的數值大於根就來到右邊，再判斷是否有小孩，如果已有右邊小孩就把此數當成新的根，再重新呼叫insert()；如果沒有左邊小孩，就把數新增進左邊小孩<br>\n",
    "### 查詢功能search()：輸入一個數可以找到那個數並回傳<br>\n",
    "##### 想法：分成根、比根小、比根大<br>\n",
    "1.如果要找的數是根，就回傳根<br>\n",
    "2.如果要找的數比根小就來到左邊找，如果等於左邊小孩就回傳，如果要找的數不是左邊小孩就重新呼叫find()，把左邊小孩當成新的根去跑<br>\n",
    "3.如果要找的數比根大就來到右邊找，如果等於右邊小孩就回傳，如果要找的數不是右邊小孩就重新呼叫find()，把右邊小孩當成新的根去跑<br>\n",
    "### 刪除功能delete()：\n",
    "##### 想法：重建一棵樹，用走訪的方式，如果在原本的樹裡走到不是target，就呼叫刪除的走訪 fuction把數新增進新建的樹裡，如果遇到 target ，就不管它\n",
    "建一棵空的新樹\n",
    "呼叫rebuild()走訪root裡的每一個數，如果有root，如果root裡的值不等於要刪除的數，就將它新增進新樹裡\n",
    "### 修改功能modify()：\n",
    "用跟刪除一樣的邏輯來寫修改，也定義一個修改的走訪fuction，只是多把一個"
   ]
  },
  {
   "cell_type": "code",
   "execution_count": null,
   "metadata": {},
   "outputs": [],
   "source": []
  }
 ],
 "metadata": {
  "kernelspec": {
   "display_name": "Python 3",
   "language": "python",
   "name": "python3"
  },
  "language_info": {
   "codemirror_mode": {
    "name": "ipython",
    "version": 3
   },
   "file_extension": ".py",
   "mimetype": "text/x-python",
   "name": "python",
   "nbconvert_exporter": "python",
   "pygments_lexer": "ipython3",
   "version": "3.6.5"
  }
 },
 "nbformat": 4,
 "nbformat_minor": 2
}
