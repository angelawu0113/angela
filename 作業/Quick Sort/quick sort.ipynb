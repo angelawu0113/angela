{
 "cells": [
  {
   "cell_type": "code",
   "execution_count": 2,
   "metadata": {},
   "outputs": [],
   "source": [
    "def quicksort(list): #使用額外空間\n",
    "    pivot_list=[]\n",
    "    left= []\n",
    "    right= []\n",
    "    \n",
    "    if len(list)<=1:\n",
    "        return list\n",
    "    \n",
    "        \n",
    "    else:\n",
    "        pivot= list[0] #基準點 pivot 設為 list 第一個數\n",
    "        for i in list:\n",
    "            if i > pivot: # i 比 pivot大就在空的 right 裡新增此數\n",
    "                right.append(i)\n",
    "            elif i < pivot: # i 比 pivot小就在空的 left 裡新增此數 \n",
    "                left.append(i)\n",
    "            else: \n",
    "                pivot_list.append(i) \n",
    "    return  quicksort(left) + pivot_list + quicksort(right) #回傳比 pivot 小 + pivot + pivot 大的數"
   ]
  },
  {
   "cell_type": "code",
   "execution_count": 3,
   "metadata": {},
   "outputs": [],
   "source": [
    "list=[2,1,5,3,13,9,43,29,85,54]"
   ]
  },
  {
   "cell_type": "code",
   "execution_count": 4,
   "metadata": {},
   "outputs": [
    {
     "data": {
      "text/plain": [
       "[1, 2, 3, 5, 9, 13, 29, 43, 54, 85]"
      ]
     },
     "execution_count": 4,
     "metadata": {},
     "output_type": "execute_result"
    }
   ],
   "source": [
    "quicksort(list)"
   ]
  },
  {
   "cell_type": "code",
   "execution_count": null,
   "metadata": {},
   "outputs": [],
   "source": []
  }
 ],
 "metadata": {
  "kernelspec": {
   "display_name": "Python 3",
   "language": "python",
   "name": "python3"
  },
  "language_info": {
   "codemirror_mode": {
    "name": "ipython",
    "version": 3
   },
   "file_extension": ".py",
   "mimetype": "text/x-python",
   "name": "python",
   "nbconvert_exporter": "python",
   "pygments_lexer": "ipython3",
   "version": "3.6.5"
  }
 },
 "nbformat": 4,
 "nbformat_minor": 2
}
