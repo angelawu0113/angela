{
 "cells": [
  {
   "cell_type": "markdown",
   "metadata": {},
   "source": [
    "#Quick Sort\n",
    "\n",
    "##什麼是Quick Sort?\n",
    "就是一種快速排序，將大問題分成小問題後，再一一解決的方法\n",
    "\n",
    "##方法：\n",
    "1.設定一個數為基準值，將其他數來跟基準值進行比較<br>\n",
    "2.如果比基準值小，就放在基準值的左邊<br>\n",
    "3.如果比基準值大，就放在基準值的右邊<br>\n",
    "4.將沒有完全排序完的數再重複1、2、3的步驟，直到所有數都被排序完<br>\n",
    "參考資料：http://notepad.yehyeh.net/Content/Algorithm/Sort/Quick/Quick.php\n",
    "\n",
    "##我的想法：\n",
    "這次作業要做Quick Sort，我是想到可以使用額外的空間來進行排序，首先設定我的基準值為list[0](list的第一個數)，一開始想到可以設定2個空的集合left、right分別來放比基準值小跟比基準值大的數，然後再寫for迴圈讓數值可以重複分成左右2堆，進行排序。\n",
    "\n",
    "###大概的概念長這樣：\n",
    "1.找基準點，分2群<br>\n",
    "2.小於基準點放左邊的空集合<br>\n",
    "3.大於基準點放右邊的空集合<br>\n",
    "2跟3再回到1寫for迴圈\n",
    "\n",
    "###還沒想通得部分：\n",
    "那時候還不清楚該怎麼設定基準值，讓基準值設在left跟right的第一個數，以至於在第一次分堆後可以再接續回到第1步驟\n",
    "\n",
    "###參考網路解法後：\n",
    "後來參考網路上的解法後，找到了同樣使用額外空間的方法，才知道...<br>\n",
    "1.要用def()來定義一個函數，再寫for迴圈才能解決我沒想通的部分<br>\n",
    "2.以及一開始要先設定list的長度，如果list的長度是1或0的話就可以不用排序，直接回傳list"
   ]
  },
  {
   "cell_type": "code",
   "execution_count": 8,
   "metadata": {},
   "outputs": [],
   "source": [
    "a=[13,43,5,3,9,29]"
   ]
  },
  {
   "cell_type": "code",
   "execution_count": 9,
   "metadata": {},
   "outputs": [],
   "source": [
    "def quicksort(list): #使用額外空間\n",
    "    pivot_list=[]\n",
    "    left= []\n",
    "    right= []\n",
    "    \n",
    "    if len(list)<=1:\n",
    "        return list\n",
    "    \n",
    "        \n",
    "    else:\n",
    "        pivot= list[0] #基準點 pivot 設為 list 第一個數\n",
    "        for i in list:\n",
    "            if i > pivot: # i 比 pivot大就在空的 right 裡新增此數\n",
    "                right.append(i)\n",
    "            elif i < pivot: # i 比 pivot小就在空的 left 裡新增此數 \n",
    "                left.append(i)\n",
    "            else: \n",
    "                pivot_list.append(i) \n",
    "    return  quicksort(left) + pivot_list + quicksort(right) #回傳比 pivot 小 + pivot + pivot 大的數"
   ]
  },
  {
   "cell_type": "code",
   "execution_count": 10,
   "metadata": {},
   "outputs": [
    {
     "data": {
      "text/plain": [
       "[3, 5, 9, 13, 29, 43]"
      ]
     },
     "execution_count": 10,
     "metadata": {},
     "output_type": "execute_result"
    }
   ],
   "source": [
    "quicksort(a)"
   ]
  },
  {
   "cell_type": "markdown",
   "metadata": {},
   "source": [
    "###自我學習的部分：\n",
    "經過這次作業後我發現我好像不太知道def()函數該怎麼使用，以下是我查完資料後的小筆記...<br>\n",
    "想要定義一個函數，之後只要呼叫就能執行這個函數，可以使用def()這個函數<br>\n",
    "可以用在:<br>\n",
    "1.定義一個\"函數\"<br>\n",
    "def 函數名稱(要處理的參數):<br>\n",
    "    打上你所要執行的程式<br>\n",
    "    return 要顯示的結果<br>\n",
    "2.定義一個\"過程\"<br>\n",
    "def 函數名稱(要處理的參數):<br>\n",
    "    打上你所要執行的程式<br>\n",
    "<br>\n",
    "1、2的差異就是有沒有return   \n",
    "<br>\n",
    "參考資料：https://ithelp.ithome.com.tw/articles/10187997"
   ]
  },
  {
   "cell_type": "code",
   "execution_count": null,
   "metadata": {},
   "outputs": [],
   "source": []
  }
 ],
 "metadata": {
  "kernelspec": {
   "display_name": "Python 3",
   "language": "python",
   "name": "python3"
  },
  "language_info": {
   "codemirror_mode": {
    "name": "ipython",
    "version": 3
   },
   "file_extension": ".py",
   "mimetype": "text/x-python",
   "name": "python",
   "nbconvert_exporter": "python",
   "pygments_lexer": "ipython3",
   "version": "3.6.5"
  }
 },
 "nbformat": 4,
 "nbformat_minor": 2
}
