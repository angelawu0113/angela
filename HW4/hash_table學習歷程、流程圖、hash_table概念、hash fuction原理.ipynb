{
 "cells": [
  {
   "cell_type": "markdown",
   "metadata": {},
   "source": [
    "# hash table概念：\n",
    "一種結合array與linked-list的資料結構，array裡的每個位置後面都接一條linked-list，而array裡的每個位置都是linked-list的第一個頭節點，將輸入的key(不限型態，但這次的作業規定的是字串)經過MD5來加密轉成10進位的數值，用取餘數的方法(或其他)來將加密過後的key(以下簡稱new_key)放進對應的array儲存空間裡，如果輸入不同的key對應到相同的array位置，就將new_key新增進此位置後面的節點<br>\n",
    "<br>\n",
    "參考資料：<br>\n",
    "https://docs.google.com/presentation/d/e/2PACX-1vT1HO9Nl475k2bR0l1x8_Tr4V5Wzx0BEqp9bpmHckvj8kTeJehhYVlOJUDVPhLQm6kjGCJ_sLMSBUw5/pub?start=false&loop=false&delayms=3000&slide=id.g7565e27c53_0_20<br>\n",
    "https://github.com/imucici/my-learning-note/blob/master/HW3/binary_search_tree_06170211.py"
   ]
  },
  {
   "cell_type": "markdown",
   "metadata": {},
   "source": [
    "# hash function說明：\n",
    "### 加密(encryption):將輸入的key用MD5轉成10進位的數值\n",
    "我多寫一個把數字加密的fuction，方便我在寫新增、移除、搜尋時可以呼叫此fuction來處理將字串轉成10進位的數值(這裡是參考助教給的程式碼)"
   ]
  },
  {
   "cell_type": "markdown",
   "metadata": {},
   "source": [
    "![text](https://github.com/angelawu0113/angela/blob/master/week8/encryption.jpg?raw=true)"
   ]
  },
  {
   "cell_type": "code",
   "execution_count": 6,
   "metadata": {},
   "outputs": [],
   "source": [
    "    def encryption(self,key): #寫一個負責加密fuction:把字串丟進去，用 MD5 來輸出加密數字\n",
    "        h = MD5.new()\n",
    "        h.update(key.encode(\"utf-8\"))\n",
    "        print(h.hexdigest())\n",
    "        new_key = int(h.hexdigest(),16)\n",
    "        return new_key #new_key是加密過的數字"
   ]
  },
  {
   "cell_type": "markdown",
   "metadata": {},
   "source": [
    "### 新增(add):將輸入的key找到對應位置並新增進去，如果該位置已有值，就在後面接一個node(不存重複值)\n",
    "呼叫加密function，將n存為加密的數字/capacity的餘數(n為放入array的位置)，如果data裡的那個位子是空的，就把 new_key存進去，不然那個位子已有存東西，就看如果那個位置的值不是new_key(這行是為了防止加入重複值)，再來判斷如果 array後面沒有 node，就在他的後面建一個 node，不然array後面有 node，就用while迴圈找到最後一個 node(後來更改迴圈的條件：如果array[n].next有下一個節點，且array[n]不是new_key就一直跑回圈，直到找到最後一個節點)，在判斷最後一個節點是沒有next且最後一個節點不是new_key，就新增new_key在最後一個節點後面"
   ]
  },
  {
   "cell_type": "markdown",
   "metadata": {},
   "source": [
    "![text](https://github.com/angelawu0113/angela/blob/master/week8/add.jpg?raw=true)"
   ]
  },
  {
   "cell_type": "code",
   "execution_count": 7,
   "metadata": {},
   "outputs": [],
   "source": [
    "    def add(self, key):\n",
    "        new_key = MyHashSet().encryption(key) #呼叫 encryption()來把 key 加密\n",
    "        n = new_key % self.capacity #取餘數放到對應的 array index裡\n",
    "        if self.data[n] == None: # 如果data裡的那個位子是空的，就把 new_key存進去\n",
    "            self.data[n] = ListNode(new_key)\n",
    "        else: #如果那個位子已有存東西\n",
    "            if self.data[n].val != new_key: #後來加這行來防止加入重複值\n",
    "                if self.data[n].next == None:#如果 array後面沒有 node，就在他的後面建一個 node\n",
    "                    self.data[n].next = ListNode(new_key)\n",
    "                else: # array後面有 node，找到最後一個 node，新增在他後面\n",
    "                    x = self.data[n] #參考同學的 while走訪概念\n",
    "                    y = x.next\n",
    "                    while y.next and y.val != new_key: #後來更改條件來防止重複值\n",
    "                        y = y.next #現在 y是 linked-list的最後一個 node\n",
    "                    if y.next == None and y.val != new_key:  \n",
    "                        y.next = ListNode(new_key)"
   ]
  },
  {
   "cell_type": "markdown",
   "metadata": {},
   "source": [
    "### 移除(remove):\n",
    "呼叫加密function，將n存為加密的數字/capacity的餘數(n為放入array的位置)，找到那個值，把前一個node指向下一個node，如果要刪除的值在array裡就判斷他有沒有next，如果有他的下一個就用下一個取代他成為新的頭，如果沒有就變None"
   ]
  },
  {
   "cell_type": "markdown",
   "metadata": {},
   "source": [
    "![text](https://github.com/angelawu0113/angela/blob/master/week8/remove.jpg?raw=true)"
   ]
  },
  {
   "cell_type": "code",
   "execution_count": 8,
   "metadata": {},
   "outputs": [],
   "source": [
    "    def remove(self, key):\n",
    "        new_key = MyHashSet().encryption(key) #呼叫 encryption()來把 key 加密\n",
    "        n = new_key % self.capacity #取餘數為了放到對應的array index裡\n",
    "        if self.data[n] != None: #如果array[n]不是空\n",
    "            if self.data[n].val == new_key: #如果要移除的 new_key就在 array裡\n",
    "                if self.data[n].next != None: # array後面有node，把 array的下一個 node存入array原來的位置\n",
    "                    self.data[n] = self.data[n].next\n",
    "                else: # array後面沒有node，直接存成 None\n",
    "                    self.data[n] = None \n",
    "            elif self.data[n].next and self.data[n].val != new_key: #如果後面有 linked-list且array裡的值不是要找的值,就使用 while找到要移除的 new_key\n",
    "                x = self.data[n] #參考同學的 while走訪概念\n",
    "                y = x.next\n",
    "                while y != None and y.val != new_key: #設這個條件是確保迴圈停止的條件不是走訪完沒找到，不然就是找到\n",
    "                    x = y\n",
    "                    y = y.next #現在 y是那個 new_key， x是 y的前一個 node  \n",
    "                if y: #判斷如果y存在，就把前一個 node指向y的下一個 node\n",
    "                    x.next = y.next   "
   ]
  },
  {
   "cell_type": "markdown",
   "metadata": {},
   "source": [
    "### 搜尋(contains):\n",
    "呼叫加密function，將n存為加密的數字/capacity的餘數(n為放入array的位置)，從頭開始找，找到就回傳True，找不到就往下找直到整條linked-list找完都找不到就回傳False"
   ]
  },
  {
   "cell_type": "markdown",
   "metadata": {},
   "source": [
    "![text](https://github.com/angelawu0113/angela/blob/master/week8/contains.jpg?raw=true)"
   ]
  },
  {
   "cell_type": "code",
   "execution_count": 9,
   "metadata": {},
   "outputs": [],
   "source": [
    "    def contains(self, key):\n",
    "        new_key = MyHashSet().encryption(key) #呼叫 encryption()來把 key 加密\n",
    "        n = new_key % self.capacity #取餘數來決定 key在array的哪裡\n",
    "        if self.data[n] == None:#如果 array裡的那個位置沒有值，就回傳False\n",
    "            return False\n",
    "        elif self.data[n].val != None: #如果 array裡的那個位置有值\n",
    "            if self.data[n].val == new_key: # key就在 array，就回傳True\n",
    "                return True\n",
    "            else: # key不在 array裡\n",
    "                if self.data[n].next != None: #如果 array後面有 linked-list,使用 while找到key\n",
    "                    x = self.data[n] #參考同學的 while走訪概念\n",
    "                    y = x.next\n",
    "                    while new_key != y.val and y.next: #用while找到對應的值                               \n",
    "                        y = y.next #現在 y是那個 key， x是 y的前一個 node  \n",
    "                    if y.val == new_key:\n",
    "                        return True\n",
    "                    else: \n",
    "                        return False \n",
    "                else: # array後面沒有linked-list\n",
    "                    return False "
   ]
  },
  {
   "cell_type": "markdown",
   "metadata": {},
   "source": [
    "# 學習歷程：\n",
    "這次我寫的方式就是想到什麼就直接轉成程式碼寫進去試試看，這是我一開始的版本：\n",
    "一開始我想的沒有那麼周全，我的add也沒有防止重複值，所以我可以add重複值進去，雖然這次作業沒有特別規定不能加重複值進去，但我remove就不知道該怎麼寫可以把全部的重複值刪除，所以我測值輸入了2個重複值，刪除了一個，最後contains出來就是True"
   ]
  },
  {
   "cell_type": "code",
   "execution_count": 10,
   "metadata": {},
   "outputs": [],
   "source": [
    "from Cryptodome.Hash import MD5\n",
    "class ListNode:\n",
    "    def __init__(self, val):\n",
    "        self.val = val\n",
    "        self.next = None\n",
    "        \"\"\"\n",
    "        :type val: int\n",
    "        :type next: ListNode\n",
    "        :rtype: None        \n",
    "        \"\"\"\n",
    "        \n",
    "class MyHashSet:\n",
    "    def __init__(self, capacity = 5):\n",
    "        self.capacity = capacity\n",
    "        self.data = [None] * capacity #array\n",
    "        \"\"\"\n",
    "        :type capacity: int\n",
    "        :rtype: None\n",
    "        \"\"\"\n",
    "    def encryption(self,key): #寫一個負責加密fuction:把字串丟進去，用 MD5 來輸出加密數字\n",
    "        h = MD5.new()\n",
    "        h.update(key.encode(\"utf-8\"))\n",
    "        print(h.hexdigest())\n",
    "        new_key = int(h.hexdigest(),16)\n",
    "        return new_key #new_key是加密過的數字\n",
    "    \n",
    "    def add(self, key):\n",
    "        \"\"\"\n",
    "        :type key: str\n",
    "        :rtype: None\n",
    "        \"\"\"\n",
    "        new_key = MyHashSet().encryption(key) #呼叫 encryption()來把 key 加密\n",
    "        n = new_key % self.capacity #取餘數放到對應的 array index裡\n",
    "        if self.data[n] == None: # 如果data裡的那個位子是空的，就把 new_key存進去\n",
    "            self.data[n] = ListNode(new_key)\n",
    "        else: #如果那個位子已有存東西\n",
    "            if self.data[n].next == None:#如果 array後面沒有 node，就在他的後面建一個 node\n",
    "                self.data[n].next = ListNode(new_key)\n",
    "            else: # array後面有 node，找到最後一個 node，新增在他後面\n",
    "                x = self.data[n]\n",
    "                y = x.next\n",
    "                while y.next:\n",
    "                    y = y.next #現在 y是 linked-list的最後一個 node\n",
    "                y.next = ListNode(new_key)         \n",
    "               \n",
    "    def remove(self, key):\n",
    "        \"\"\"\n",
    "        :type key: str\n",
    "        :rtype: None\n",
    "        \"\"\"\n",
    "        new_key = MyHashSet().encryption(key) #呼叫 encryption()來把 key 加密\n",
    "        n = new_key % self.capacity #取餘數為了放到對應的array index裡\n",
    "        if self.data[n].val == new_key: #如果要移除的 new_key就在 array裡\n",
    "            if self.data[n].next != None: # array後面有node，把 array的下一個 node存入array原來的位置\n",
    "                self.data[n] = self.data[n].next\n",
    "            else: # array後面沒有node，直接存成 None\n",
    "                self.data[n].val = None       \n",
    "        elif self.data[n].next: #如果後面有 linked-list,使用 while找到要移除的 new_key\n",
    "            x = self.data[n]\n",
    "            y = x.next\n",
    "            while y.val != new_key and y.next: \n",
    "                x = y\n",
    "                y = y.next #現在 y是那個 new_key， x是 y的前一個 node  \n",
    "            if y.next: #如果後面還有 node\n",
    "                x.next = y.next \n",
    "                y = None\n",
    "                MyHashSet().remove(key) #處理重複值再呼叫一次移除函式處理重複值\n",
    "            else: #如果要移除的就是linked-list最後一個node\n",
    "                y = None\n",
    "        \n",
    "    def contains(self, key):\n",
    "        \"\"\"\n",
    "        :type key: str\n",
    "        :rtype: bool(True or False)\n",
    "        \"\"\"\n",
    "        new_key = MyHashSet().encryption(key) #呼叫 encryption()來把 key 加密\n",
    "        n = new_key % self.capacity #取餘數來決定 key在array的哪裡\n",
    "        if self.data[n] == None: #如果 array裡的那個位置沒有值\n",
    "            return False\n",
    "        elif self.data[n].val != None: #如果 array裡的那個位置有值\n",
    "            if self.data[n].val == new_key: # key就在 array\n",
    "                return True\n",
    "            else: # key不在 array裡\n",
    "                if self.data[n].next != None: #如果 array後面有 linked-list,使用 while找到key\n",
    "                    x = self.data[n]\n",
    "                    y = x.next\n",
    "                    while new_key != y.val and y.next:                                \n",
    "                        y = y.next #現在 y是那個 key， x是 y的前一個 node  \n",
    "                    if y.val == new_key:\n",
    "                        return True\n",
    "                    else: \n",
    "                        return False \n",
    "                else: # array後面沒有linked-list\n",
    "                    return False"
   ]
  },
  {
   "cell_type": "code",
   "execution_count": 11,
   "metadata": {},
   "outputs": [
    {
     "name": "stdout",
     "output_type": "stream",
     "text": [
      "25930e3036f13852cb0b29694bbab611\n",
      "de4667d1f44423b565b07a7bb14790fc\n",
      "25930e3036f13852cb0b29694bbab611\n",
      "de4667d1f44423b565b07a7bb14790fc\n",
      "de4667d1f44423b565b07a7bb14790fc\n",
      "25930e3036f13852cb0b29694bbab611\n",
      "de4667d1f44423b565b07a7bb14790fc\n",
      "36388794be2cf5f298978498ff3c64a2\n",
      "abaecf8ca3f98dc13eeecbac263cd3ed\n",
      "True True False False\n"
     ]
    }
   ],
   "source": [
    "hashSet = MyHashSet()\n",
    "hashSet.add(\"nt\")\n",
    "hashSet.add(\"med\")\n",
    "hashSet.add(\"nt\")\n",
    "hashSet.add(\"med\")\n",
    "hashSet.remove(\"med\")\n",
    "\n",
    "print(hashSet.contains(\"nt\"),\n",
    "hashSet.contains(\"med\"),\n",
    "hashSet.contains(\"angela\"),hashSet.contains(\"bird\"))"
   ]
  },
  {
   "cell_type": "markdown",
   "metadata": {},
   "source": [
    "後來我想說那我就在add防止重複值，那我remove就可以不用花時間去找有沒有重複值，這樣比較容易成功，所以我就開始重寫了add跟remove，於是有了第二個版本:最後我測出來的如果加了重複值，移除後contains最後跑出False(成功)，加值進去contains出True(成功)，contains沒加進去的數跑出False(成功)"
   ]
  },
  {
   "cell_type": "code",
   "execution_count": 12,
   "metadata": {},
   "outputs": [],
   "source": [
    "from Cryptodome.Hash import MD5\n",
    "class ListNode:\n",
    "    def __init__(self, val):\n",
    "        self.val = val\n",
    "        self.next = None\n",
    "        \n",
    "        \n",
    "class MyHashSet:\n",
    "    def __init__(self, capacity = 5):\n",
    "        self.capacity = capacity\n",
    "        self.data = [None] * capacity #array\n",
    "       \n",
    "        \n",
    "    def encryption(self,key): #寫一個負責加密fuction:把字串丟進去，用 MD5 來輸出加密數字，這是參考老師投影片助教給的程式碼\n",
    "        h = MD5.new()\n",
    "        h.update(key.encode(\"utf-8\"))\n",
    "        new_key = int(h.hexdigest(),16)\n",
    "        return new_key #new_key是加密過的數字\n",
    "    \n",
    "    def add(self, key):\n",
    "        new_key = MyHashSet().encryption(key) #呼叫 encryption()來把 key 加密\n",
    "        n = new_key % self.capacity #取餘數放到對應的 array index裡\n",
    "        if self.data[n] == None: # 如果data裡的那個位子是空的，就把 new_key存進去\n",
    "            self.data[n] = ListNode(new_key)\n",
    "        else: #如果那個位子已有存東西\n",
    "            if self.data[n].val != new_key: #後來加這行來防止加入重複值\n",
    "                if self.data[n].next == None:#如果 array後面沒有 node，就在他的後面建一個 node\n",
    "                    self.data[n].next = ListNode(new_key)\n",
    "                else: # array後面有 node，找到最後一個 node，新增在他後面\n",
    "                    x = self.data[n] #參考同學的 while走訪概念\n",
    "                    y = x.next\n",
    "                    while y.next and y.val != new_key: #後來更改條件來防止重複值\n",
    "                        y = y.next #現在 y是 linked-list的最後一個 node\n",
    "                    if y.next == None and y.val != new_key:  \n",
    "                        y.next = ListNode(new_key)\n",
    "                \n",
    "    def remove(self, key):\n",
    "        new_key = MyHashSet().encryption(key) #呼叫 encryption()來把 key 加密\n",
    "        n = new_key % self.capacity #取餘數為了放到對應的array index裡\n",
    "        if self.data[n] != None:\n",
    "            if self.data[n].val == new_key: #如果要移除的 new_key就在 array裡\n",
    "                if self.data[n].next != None: # array後面有node，把 array的下一個 node存入array原來的位置\n",
    "                    self.data[n] = self.data[n].next\n",
    "                else: # array後面沒有node，直接存成 None\n",
    "                    self.data[n] = None \n",
    "            elif self.data[n].next and self.data[n].val != new_key: #如果後面有 linked-list且array裡的值不適要找的值,就使用 while找到要移除的 new_key\n",
    "                x = self.data[n] #參考同學的 while走訪概念\n",
    "                y = x.next\n",
    "                while y != None and y.val != new_key: \n",
    "                    x = y\n",
    "                    y = y.next #現在 y是那個 new_key， x是 y的前一個 node  \n",
    "                if y: \n",
    "                    x.next = y.next        \n",
    "        \n",
    "    def contains(self, key):\n",
    "        new_key = MyHashSet().encryption(key) #呼叫 encryption()來把 key 加密\n",
    "        n = new_key % self.capacity #取餘數來決定 key在array的哪裡\n",
    "        if self.data[n] == None:#如果 array裡的那個位置沒有值\n",
    "            return False\n",
    "        elif self.data[n].val != None: #如果 array裡的那個位置有值\n",
    "            if self.data[n].val == new_key: # key就在 array\n",
    "                return True\n",
    "            else: # key不在 array裡\n",
    "                if self.data[n].next != None: #如果 array後面有 linked-list,使用 while找到key\n",
    "                    x = self.data[n] #參考同學的 while走訪概念\n",
    "                    y = x.next\n",
    "                    while new_key != y.val and y.next:                                \n",
    "                        y = y.next #現在 y是那個 key， x是 y的前一個 node  \n",
    "                    if y.val == new_key:\n",
    "                        return True\n",
    "                    else: \n",
    "                        return False \n",
    "                else: # array後面沒有linked-list\n",
    "                    return False "
   ]
  },
  {
   "cell_type": "code",
   "execution_count": 13,
   "metadata": {},
   "outputs": [
    {
     "name": "stdout",
     "output_type": "stream",
     "text": [
      "True False False False\n"
     ]
    }
   ],
   "source": [
    "hashSet = MyHashSet()\n",
    "hashSet.add(\"med\")\n",
    "hashSet.add(\"med\")\n",
    "hashSet.add(\"d\")\n",
    "hashSet.add(\"c\")\n",
    "\n",
    "hashSet.remove(\"med\")\n",
    "hashSet.remove(\"d\")\n",
    "\n",
    "print(\n",
    "hashSet.contains(\"c\"),\n",
    "hashSet.contains(\"d\"),\n",
    "hashSet.contains(\"med\"),\n",
    "hashSet.contains(\"a\")\n",
    ")"
   ]
  },
  {
   "cell_type": "markdown",
   "metadata": {},
   "source": [
    "# 心得：\n",
    "經過這幾次作業後，這次寫就覺得比較簡單，也越來越能把自己的邏輯轉換成程式碼了"
   ]
  }
 ],
 "metadata": {
  "kernelspec": {
   "display_name": "Python 3",
   "language": "python",
   "name": "python3"
  },
  "language_info": {
   "codemirror_mode": {
    "name": "ipython",
    "version": 3
   },
   "file_extension": ".py",
   "mimetype": "text/x-python",
   "name": "python",
   "nbconvert_exporter": "python",
   "pygments_lexer": "ipython3",
   "version": "3.6.5"
  }
 },
 "nbformat": 4,
 "nbformat_minor": 2
}
